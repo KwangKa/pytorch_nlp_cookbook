{
 "cells": [
  {
   "cell_type": "code",
   "execution_count": null,
   "id": "statistical-religion",
   "metadata": {},
   "outputs": [],
   "source": [
    "# Gururangan S, Marasović A, Swayamdipta S, et al. \n",
    "# Don't Stop Pretraining: Adapt Language Models to Domains and Tasks[J]. arXiv preprint arXiv:2004.10964, 2020."
   ]
  },
  {
   "cell_type": "code",
   "execution_count": null,
   "id": "behind-restoration",
   "metadata": {},
   "outputs": [],
   "source": [
    "import os\n",
    "os.environ['TRANSFORMERS_CACHE'] = '/root/data/transformers/model_zoo'\n",
    "\n",
    "from tqdm import tqdm\n",
    "from transformers import (\n",
    "    AlbertForMaskedLM,\n",
    "    BertTokenizer,\n",
    "    DataCollatorForLanguageModeling,\n",
    "    LineByLineTextDataset,\n",
    "    Trainer,\n",
    "    TrainingArguments\n",
    ")"
   ]
  },
  {
   "cell_type": "code",
   "execution_count": null,
   "id": "younger-separation",
   "metadata": {},
   "outputs": [],
   "source": [
    "pretrained = 'voidful/albert_chinese_tiny'\n",
    "tokenizer = BertTokenizer.from_pretrained(pretrained, mirror='tuna')\n",
    "model = AlbertForMaskedLM.from_pretrained(pretrained, mirror='tuna')\n",
    "pretrain_dataset = LineByLineTextDataset(\n",
    "    tokenizer=tokenizer,\n",
    "    file_path='../data/tnews/pretrain_data.txt',\n",
    "    block_size=512\n",
    ")\n",
    "data_collator = DataCollatorForLanguageModeling(\n",
    "    tokenizer=tokenizer,\n",
    "    mlm=True,\n",
    "    mlm_probability=0.15\n",
    ")"
   ]
  },
  {
   "cell_type": "code",
   "execution_count": null,
   "id": "junior-recipe",
   "metadata": {},
   "outputs": [],
   "source": [
    "training_args = TrainingArguments(\n",
    "    output_dir='./results',\n",
    "    num_train_epochs=10,\n",
    "    per_device_train_batch_size=64,\n",
    "    per_device_eval_batch_size=64,\n",
    "    warmup_steps=500\n",
    ")\n",
    "\n",
    "trainer = Trainer(\n",
    "    model=model,\n",
    "    args=training_args,\n",
    "    data_collator=data_collator,\n",
    "    train_dataset=pretrain_dataset\n",
    ")\n",
    "\n",
    "trainer.train()"
   ]
  },
  {
   "cell_type": "code",
   "execution_count": null,
   "id": "blond-turner",
   "metadata": {},
   "outputs": [],
   "source": [
    "trainer.save_model('./dapt_model')\n",
    "tokenizer.save_pretrained('./dapt_model/')"
   ]
  },
  {
   "cell_type": "code",
   "execution_count": null,
   "id": "distinguished-forum",
   "metadata": {},
   "outputs": [],
   "source": []
  }
 ],
 "metadata": {
  "kernelspec": {
   "display_name": "Python 3",
   "language": "python",
   "name": "python3"
  },
  "language_info": {
   "codemirror_mode": {
    "name": "ipython",
    "version": 3
   },
   "file_extension": ".py",
   "mimetype": "text/x-python",
   "name": "python",
   "nbconvert_exporter": "python",
   "pygments_lexer": "ipython3",
   "version": "3.6.9"
  }
 },
 "nbformat": 4,
 "nbformat_minor": 5
}
