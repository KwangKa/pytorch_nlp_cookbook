{
 "cells": [
  {
   "cell_type": "code",
   "execution_count": 1,
   "id": "secure-costume",
   "metadata": {
    "ExecuteTime": {
     "end_time": "2021-05-21T06:52:43.839587Z",
     "start_time": "2021-05-21T06:52:40.924508Z"
    }
   },
   "outputs": [],
   "source": [
    "from pathlib import Path\n",
    "from datasets import load_dataset\n",
    "import datasets\n",
    "from collections import Counter\n",
    "from torch.utils.data import DataLoader\n",
    "from transformers import BertTokenizer\n",
    "from transformers.data.data_collator import DataCollatorWithPadding"
   ]
  },
  {
   "cell_type": "markdown",
   "id": "thermal-personality",
   "metadata": {},
   "source": [
    "### 加载本地json数据"
   ]
  },
  {
   "cell_type": "code",
   "execution_count": 2,
   "id": "understood-silver",
   "metadata": {
    "ExecuteTime": {
     "end_time": "2021-05-21T06:52:43.849633Z",
     "start_time": "2021-05-21T06:52:43.845680Z"
    }
   },
   "outputs": [],
   "source": [
    "data_path = '../../data/tnews/'"
   ]
  },
  {
   "cell_type": "code",
   "execution_count": 3,
   "id": "nasty-politics",
   "metadata": {
    "ExecuteTime": {
     "end_time": "2021-05-21T06:52:44.884693Z",
     "start_time": "2021-05-21T06:52:43.855580Z"
    }
   },
   "outputs": [
    {
     "name": "stderr",
     "output_type": "stream",
     "text": [
      "Using custom data configuration default-50902a2334524789\n",
      "Reusing dataset json (/root/.cache/huggingface/datasets/json/default-50902a2334524789/0.0.0/83d5b3a2f62630efc6b5315f00f20209b4ad91a00ac586597caee3a4da0bef02)\n"
     ]
    },
    {
     "data": {
      "text/plain": [
       "DatasetDict({\n",
       "    train: Dataset({\n",
       "        features: ['label', 'label_desc', 'sentence', 'keywords'],\n",
       "        num_rows: 53360\n",
       "    })\n",
       "    test: Dataset({\n",
       "        features: ['label', 'label_desc', 'sentence', 'keywords'],\n",
       "        num_rows: 10000\n",
       "    })\n",
       "})"
      ]
     },
     "execution_count": 3,
     "metadata": {},
     "output_type": "execute_result"
    }
   ],
   "source": [
    "dataset = load_dataset('json', data_files={\n",
    "    'train': ['{0}/train.json'.format(data_path)],\n",
    "    'test': ['{0}/dev.json'.format(data_path)]\n",
    "})\n",
    "dataset"
   ]
  },
  {
   "cell_type": "code",
   "execution_count": 4,
   "id": "indoor-spoke",
   "metadata": {
    "ExecuteTime": {
     "end_time": "2021-05-21T06:52:44.901078Z",
     "start_time": "2021-05-21T06:52:44.891448Z"
    }
   },
   "outputs": [
    {
     "data": {
      "text/plain": [
       "{'label': '108',\n",
       " 'label_desc': 'news_edu',\n",
       " 'sentence': '上课时学生手机响个不停，老师一怒之下把手机摔了，家长拿发票让老师赔，大家怎么看待这种事？',\n",
       " 'keywords': ''}"
      ]
     },
     "execution_count": 4,
     "metadata": {},
     "output_type": "execute_result"
    }
   ],
   "source": [
    "dataset['train'][0]"
   ]
  },
  {
   "cell_type": "markdown",
   "id": "characteristic-information",
   "metadata": {},
   "source": [
    "### label转换为0-index的数字"
   ]
  },
  {
   "cell_type": "code",
   "execution_count": 5,
   "id": "relative-rebate",
   "metadata": {
    "ExecuteTime": {
     "end_time": "2021-05-21T06:52:45.028380Z",
     "start_time": "2021-05-21T06:52:44.907552Z"
    }
   },
   "outputs": [
    {
     "data": {
      "text/plain": [
       "{'108': 0,\n",
       " '104': 1,\n",
       " '106': 2,\n",
       " '112': 3,\n",
       " '109': 4,\n",
       " '103': 5,\n",
       " '116': 6,\n",
       " '101': 7,\n",
       " '107': 8,\n",
       " '100': 9,\n",
       " '102': 10,\n",
       " '110': 11,\n",
       " '115': 12,\n",
       " '113': 13,\n",
       " '114': 14}"
      ]
     },
     "execution_count": 5,
     "metadata": {},
     "output_type": "execute_result"
    }
   ],
   "source": [
    "c = Counter()\n",
    "c.update(dataset['train']['label'])\n",
    "c.update(dataset['test']['label'])\n",
    "label2id = dict(zip(list(c.keys()), list(range(len(c.keys())))))\n",
    "label2id"
   ]
  },
  {
   "cell_type": "code",
   "execution_count": 6,
   "id": "therapeutic-champion",
   "metadata": {
    "ExecuteTime": {
     "end_time": "2021-05-21T06:52:54.031441Z",
     "start_time": "2021-05-21T06:52:45.035010Z"
    }
   },
   "outputs": [
    {
     "data": {
      "application/vnd.jupyter.widget-view+json": {
       "model_id": "8be56d6114f74c5b932fc0da28cd63cf",
       "version_major": 2,
       "version_minor": 0
      },
      "text/plain": [
       "HBox(children=(FloatProgress(value=0.0, max=53360.0), HTML(value='')))"
      ]
     },
     "metadata": {},
     "output_type": "display_data"
    },
    {
     "name": "stdout",
     "output_type": "stream",
     "text": [
      "\n"
     ]
    },
    {
     "data": {
      "application/vnd.jupyter.widget-view+json": {
       "model_id": "c8ca29250b774974b3acb201fd4708e8",
       "version_major": 2,
       "version_minor": 0
      },
      "text/plain": [
       "HBox(children=(FloatProgress(value=0.0, max=10000.0), HTML(value='')))"
      ]
     },
     "metadata": {},
     "output_type": "display_data"
    },
    {
     "name": "stdout",
     "output_type": "stream",
     "text": [
      "\n"
     ]
    },
    {
     "data": {
      "text/plain": [
       "{'keywords': '',\n",
       " 'label': '108',\n",
       " 'label_desc': 'news_edu',\n",
       " 'labels': 0,\n",
       " 'sentence': '上课时学生手机响个不停，老师一怒之下把手机摔了，家长拿发票让老师赔，大家怎么看待这种事？'}"
      ]
     },
     "execution_count": 6,
     "metadata": {},
     "output_type": "execute_result"
    }
   ],
   "source": [
    "dataset = dataset.map(lambda example: {'labels': label2id[example['label']]})\n",
    "dataset['train'][0]"
   ]
  },
  {
   "cell_type": "markdown",
   "id": "comprehensive-basics",
   "metadata": {
    "ExecuteTime": {
     "end_time": "2021-05-21T02:11:58.404539Z",
     "start_time": "2021-05-21T02:11:58.399558Z"
    }
   },
   "source": [
    "### 用tokenizer对文本进行分词，并返回transformers forward所需要的参数"
   ]
  },
  {
   "cell_type": "code",
   "execution_count": 7,
   "id": "common-outside",
   "metadata": {
    "ExecuteTime": {
     "end_time": "2021-05-21T06:52:59.033104Z",
     "start_time": "2021-05-21T06:52:54.037984Z"
    }
   },
   "outputs": [],
   "source": [
    "pretrained = 'voidful/albert_chinese_tiny'\n",
    "tokenizer = BertTokenizer.from_pretrained(pretrained, mirror='tuna')"
   ]
  },
  {
   "cell_type": "code",
   "execution_count": null,
   "id": "arranged-keeping",
   "metadata": {
    "ExecuteTime": {
     "start_time": "2021-05-21T06:52:40.820Z"
    }
   },
   "outputs": [
    {
     "data": {
      "application/vnd.jupyter.widget-view+json": {
       "model_id": "380ee04ce1be4b9480dcd8912db9a64d",
       "version_major": 2,
       "version_minor": 0
      },
      "text/plain": [
       "HBox(children=(FloatProgress(value=0.0, max=53360.0), HTML(value='')))"
      ]
     },
     "metadata": {},
     "output_type": "display_data"
    }
   ],
   "source": [
    "dataset = dataset.map(lambda example: tokenizer(example['sentence']))\n",
    "dataset"
   ]
  },
  {
   "cell_type": "code",
   "execution_count": null,
   "id": "integrated-posting",
   "metadata": {
    "ExecuteTime": {
     "start_time": "2021-05-21T06:52:40.821Z"
    }
   },
   "outputs": [],
   "source": [
    "# 筛选需要的columns，以及返回pytorch tensor\n",
    "dataset.set_format(type='pytorch', columns=['input_ids', 'attention_mask', 'token_type_ids', 'labels'])"
   ]
  },
  {
   "cell_type": "code",
   "execution_count": null,
   "id": "editorial-ozone",
   "metadata": {
    "ExecuteTime": {
     "start_time": "2021-05-21T06:52:40.822Z"
    }
   },
   "outputs": [],
   "source": [
    "dataset['train'][:3]"
   ]
  },
  {
   "cell_type": "code",
   "execution_count": null,
   "id": "faced-latvia",
   "metadata": {
    "ExecuteTime": {
     "start_time": "2021-05-21T06:52:40.824Z"
    }
   },
   "outputs": [],
   "source": [
    "# 配合DataLoader使用\n",
    "collator = DataCollatorWithPadding(tokenizer=tokenizer)\n",
    "train_loader = DataLoader(dataset['train'], batch_size=3, collate_fn=collator)"
   ]
  },
  {
   "cell_type": "code",
   "execution_count": null,
   "id": "permanent-revision",
   "metadata": {
    "ExecuteTime": {
     "start_time": "2021-05-21T06:52:40.825Z"
    }
   },
   "outputs": [],
   "source": [
    "next(iter(train_loader))"
   ]
  },
  {
   "cell_type": "code",
   "execution_count": null,
   "id": "earned-donna",
   "metadata": {},
   "outputs": [],
   "source": []
  }
 ],
 "metadata": {
  "kernelspec": {
   "display_name": "dl_env",
   "language": "python",
   "name": "dl_env"
  },
  "language_info": {
   "codemirror_mode": {
    "name": "ipython",
    "version": 3
   },
   "file_extension": ".py",
   "mimetype": "text/x-python",
   "name": "python",
   "nbconvert_exporter": "python",
   "pygments_lexer": "ipython3",
   "version": "3.7.9"
  },
  "varInspector": {
   "cols": {
    "lenName": 16,
    "lenType": 16,
    "lenVar": 40
   },
   "kernels_config": {
    "python": {
     "delete_cmd_postfix": "",
     "delete_cmd_prefix": "del ",
     "library": "var_list.py",
     "varRefreshCmd": "print(var_dic_list())"
    },
    "r": {
     "delete_cmd_postfix": ") ",
     "delete_cmd_prefix": "rm(",
     "library": "var_list.r",
     "varRefreshCmd": "cat(var_dic_list()) "
    }
   },
   "types_to_exclude": [
    "module",
    "function",
    "builtin_function_or_method",
    "instance",
    "_Feature"
   ],
   "window_display": false
  }
 },
 "nbformat": 4,
 "nbformat_minor": 5
}
