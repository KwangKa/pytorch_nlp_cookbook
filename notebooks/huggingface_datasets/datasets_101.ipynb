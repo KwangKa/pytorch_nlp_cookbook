{
 "cells": [
  {
   "cell_type": "code",
   "execution_count": 1,
   "id": "secure-costume",
   "metadata": {
    "ExecuteTime": {
     "end_time": "2021-05-21T06:52:43.839587Z",
     "start_time": "2021-05-21T06:52:40.924508Z"
    }
   },
   "outputs": [],
   "source": [
    "from pathlib import Path\n",
    "from datasets import load_dataset\n",
    "import datasets\n",
    "from collections import Counter\n",
    "from torch.utils.data import DataLoader\n",
    "from transformers import BertTokenizer\n",
    "from transformers.data.data_collator import DataCollatorWithPadding"
   ]
  },
  {
   "cell_type": "markdown",
   "id": "other-beverage",
   "metadata": {},
   "source": [
    "### 加载本地json数据"
   ]
  },
  {
   "cell_type": "code",
   "execution_count": 2,
   "id": "understood-silver",
   "metadata": {
    "ExecuteTime": {
     "end_time": "2021-05-21T06:52:43.849633Z",
     "start_time": "2021-05-21T06:52:43.845680Z"
    }
   },
   "outputs": [],
   "source": [
    "data_path = '../../data/tnews/'"
   ]
  },
  {
   "cell_type": "code",
   "execution_count": 3,
   "id": "nasty-politics",
   "metadata": {
    "ExecuteTime": {
     "end_time": "2021-05-21T06:52:44.884693Z",
     "start_time": "2021-05-21T06:52:43.855580Z"
    }
   },
   "outputs": [
    {
     "name": "stderr",
     "output_type": "stream",
     "text": [
      "Using custom data configuration default-50902a2334524789\n",
      "Reusing dataset json (/root/.cache/huggingface/datasets/json/default-50902a2334524789/0.0.0/83d5b3a2f62630efc6b5315f00f20209b4ad91a00ac586597caee3a4da0bef02)\n"
     ]
    },
    {
     "data": {
      "text/plain": [
       "DatasetDict({\n",
       "    train: Dataset({\n",
       "        features: ['label', 'label_desc', 'sentence', 'keywords'],\n",
       "        num_rows: 53360\n",
       "    })\n",
       "    test: Dataset({\n",
       "        features: ['label', 'label_desc', 'sentence', 'keywords'],\n",
       "        num_rows: 10000\n",
       "    })\n",
       "})"
      ]
     },
     "execution_count": 3,
     "metadata": {},
     "output_type": "execute_result"
    }
   ],
   "source": [
    "dataset = load_dataset('json', data_files={\n",
    "    'train': ['{0}/train.json'.format(data_path)],\n",
    "    'test': ['{0}/dev.json'.format(data_path)]\n",
    "})\n",
    "dataset"
   ]
  },
  {
   "cell_type": "code",
   "execution_count": 4,
   "id": "indoor-spoke",
   "metadata": {
    "ExecuteTime": {
     "end_time": "2021-05-21T06:52:44.901078Z",
     "start_time": "2021-05-21T06:52:44.891448Z"
    }
   },
   "outputs": [
    {
     "data": {
      "text/plain": [
       "{'label': '108',\n",
       " 'label_desc': 'news_edu',\n",
       " 'sentence': '上课时学生手机响个不停，老师一怒之下把手机摔了，家长拿发票让老师赔，大家怎么看待这种事？',\n",
       " 'keywords': ''}"
      ]
     },
     "execution_count": 4,
     "metadata": {},
     "output_type": "execute_result"
    }
   ],
   "source": [
    "dataset['train'][0]"
   ]
  },
  {
   "cell_type": "markdown",
   "id": "bridal-municipality",
   "metadata": {},
   "source": [
    "### label转换为0-index的数字"
   ]
  },
  {
   "cell_type": "code",
   "execution_count": 5,
   "id": "relative-rebate",
   "metadata": {
    "ExecuteTime": {
     "end_time": "2021-05-21T06:52:45.028380Z",
     "start_time": "2021-05-21T06:52:44.907552Z"
    }
   },
   "outputs": [
    {
     "data": {
      "text/plain": [
       "{'108': 0,\n",
       " '104': 1,\n",
       " '106': 2,\n",
       " '112': 3,\n",
       " '109': 4,\n",
       " '103': 5,\n",
       " '116': 6,\n",
       " '101': 7,\n",
       " '107': 8,\n",
       " '100': 9,\n",
       " '102': 10,\n",
       " '110': 11,\n",
       " '115': 12,\n",
       " '113': 13,\n",
       " '114': 14}"
      ]
     },
     "execution_count": 5,
     "metadata": {},
     "output_type": "execute_result"
    }
   ],
   "source": [
    "c = Counter()\n",
    "c.update(dataset['train']['label'])\n",
    "c.update(dataset['test']['label'])\n",
    "label2id = dict(zip(list(c.keys()), list(range(len(c.keys())))))\n",
    "label2id"
   ]
  },
  {
   "cell_type": "code",
   "execution_count": 6,
   "id": "colored-crazy",
   "metadata": {
    "ExecuteTime": {
     "end_time": "2021-05-21T06:52:54.031441Z",
     "start_time": "2021-05-21T06:52:45.035010Z"
    }
   },
   "outputs": [
    {
     "data": {
      "application/vnd.jupyter.widget-view+json": {
       "model_id": "8be56d6114f74c5b932fc0da28cd63cf",
       "version_major": 2,
       "version_minor": 0
      },
      "text/plain": [
       "HBox(children=(FloatProgress(value=0.0, max=53360.0), HTML(value='')))"
      ]
     },
     "metadata": {},
     "output_type": "display_data"
    },
    {
     "name": "stdout",
     "output_type": "stream",
     "text": [
      "\n"
     ]
    },
    {
     "data": {
      "application/vnd.jupyter.widget-view+json": {
       "model_id": "c8ca29250b774974b3acb201fd4708e8",
       "version_major": 2,
       "version_minor": 0
      },
      "text/plain": [
       "HBox(children=(FloatProgress(value=0.0, max=10000.0), HTML(value='')))"
      ]
     },
     "metadata": {},
     "output_type": "display_data"
    },
    {
     "name": "stdout",
     "output_type": "stream",
     "text": [
      "\n"
     ]
    },
    {
     "data": {
      "text/plain": [
       "{'keywords': '',\n",
       " 'label': '108',\n",
       " 'label_desc': 'news_edu',\n",
       " 'labels': 0,\n",
       " 'sentence': '上课时学生手机响个不停，老师一怒之下把手机摔了，家长拿发票让老师赔，大家怎么看待这种事？'}"
      ]
     },
     "execution_count": 6,
     "metadata": {},
     "output_type": "execute_result"
    }
   ],
   "source": [
    "dataset = dataset.map(lambda example: {'labels': label2id[example['label']]})\n",
    "dataset['train'][0]"
   ]
  },
  {
   "cell_type": "markdown",
   "id": "satisfactory-amendment",
   "metadata": {
    "ExecuteTime": {
     "end_time": "2021-05-21T02:11:58.404539Z",
     "start_time": "2021-05-21T02:11:58.399558Z"
    }
   },
   "source": [
    "### 用tokenizer对文本进行分词，并返回transformers forward所需要的参数"
   ]
  },
  {
   "cell_type": "code",
   "execution_count": 7,
   "id": "south-deficit",
   "metadata": {
    "ExecuteTime": {
     "end_time": "2021-05-21T06:52:59.033104Z",
     "start_time": "2021-05-21T06:52:54.037984Z"
    }
   },
   "outputs": [],
   "source": [
    "pretrained = 'voidful/albert_chinese_tiny'\n",
    "tokenizer = BertTokenizer.from_pretrained(pretrained, mirror='tuna')"
   ]
  },
  {
   "cell_type": "code",
   "execution_count": 8,
   "id": "arranged-keeping",
   "metadata": {
    "ExecuteTime": {
     "end_time": "2021-05-21T06:53:34.730512Z",
     "start_time": "2021-05-21T06:52:59.041889Z"
    }
   },
   "outputs": [
    {
     "data": {
      "application/vnd.jupyter.widget-view+json": {
       "model_id": "380ee04ce1be4b9480dcd8912db9a64d",
       "version_major": 2,
       "version_minor": 0
      },
      "text/plain": [
       "HBox(children=(FloatProgress(value=0.0, max=53360.0), HTML(value='')))"
      ]
     },
     "metadata": {},
     "output_type": "display_data"
    },
    {
     "name": "stdout",
     "output_type": "stream",
     "text": [
      "\n"
     ]
    },
    {
     "data": {
      "application/vnd.jupyter.widget-view+json": {
       "model_id": "0f675d912856423b9d14bbcaccbf3b6d",
       "version_major": 2,
       "version_minor": 0
      },
      "text/plain": [
       "HBox(children=(FloatProgress(value=0.0, max=10000.0), HTML(value='')))"
      ]
     },
     "metadata": {},
     "output_type": "display_data"
    },
    {
     "name": "stdout",
     "output_type": "stream",
     "text": [
      "\n"
     ]
    },
    {
     "data": {
      "text/plain": [
       "DatasetDict({\n",
       "    train: Dataset({\n",
       "        features: ['attention_mask', 'input_ids', 'keywords', 'label', 'label_desc', 'labels', 'sentence', 'token_type_ids'],\n",
       "        num_rows: 53360\n",
       "    })\n",
       "    test: Dataset({\n",
       "        features: ['attention_mask', 'input_ids', 'keywords', 'label', 'label_desc', 'labels', 'sentence', 'token_type_ids'],\n",
       "        num_rows: 10000\n",
       "    })\n",
       "})"
      ]
     },
     "execution_count": 8,
     "metadata": {},
     "output_type": "execute_result"
    }
   ],
   "source": [
    "dataset = dataset.map(lambda example: tokenizer(example['sentence']))\n",
    "dataset"
   ]
  },
  {
   "cell_type": "code",
   "execution_count": 9,
   "id": "quiet-sydney",
   "metadata": {
    "ExecuteTime": {
     "end_time": "2021-05-21T06:53:34.739954Z",
     "start_time": "2021-05-21T06:53:34.735459Z"
    }
   },
   "outputs": [],
   "source": [
    "# 筛选需要的columns，以及返回pytorch tensor\n",
    "dataset.set_format(type='pytorch', columns=['input_ids', 'attention_mask', 'token_type_ids', 'labels'])"
   ]
  },
  {
   "cell_type": "code",
   "execution_count": 10,
   "id": "arranged-cartridge",
   "metadata": {
    "ExecuteTime": {
     "end_time": "2021-05-21T06:53:34.761890Z",
     "start_time": "2021-05-21T06:53:34.745041Z"
    }
   },
   "outputs": [
    {
     "name": "stderr",
     "output_type": "stream",
     "text": [
      "/root/miniconda3/envs/dl_env/lib/python3.7/site-packages/datasets/formatting/formatting.py:164: VisibleDeprecationWarning: Creating an ndarray from ragged nested sequences (which is a list-or-tuple of lists-or-tuples-or ndarrays with different lengths or shapes) is deprecated. If you meant to do this, you must specify 'dtype=object' when creating the ndarray\n",
      "  return np.array(array, copy=False, **self.np_array_kwargs)\n",
      "/root/miniconda3/envs/dl_env/lib/python3.7/site-packages/datasets/formatting/torch_formatter.py:44: UserWarning: The given NumPy array is not writeable, and PyTorch does not support non-writeable tensors. This means you can write to the underlying (supposedly non-writeable) NumPy array using the tensor. You may want to copy the array to protect its data or make it writeable before converting it to a tensor. This type of warning will be suppressed for the rest of this program. (Triggered internally at  /opt/conda/conda-bld/pytorch_1607370152014/work/torch/csrc/utils/tensor_numpy.cpp:141.)\n",
      "  return torch.tensor(value, **{**default_dtype, **self.torch_tensor_kwargs})\n"
     ]
    },
    {
     "data": {
      "text/plain": [
       "{'attention_mask': [tensor([1, 1, 1, 1, 1, 1, 1, 1, 1, 1, 1, 1, 1, 1, 1, 1, 1, 1, 1, 1, 1, 1, 1, 1,\n",
       "          1, 1, 1, 1, 1, 1, 1, 1, 1, 1, 1, 1, 1, 1, 1, 1, 1, 1, 1, 1, 1, 1]),\n",
       "  tensor([1, 1, 1, 1, 1, 1, 1, 1, 1, 1, 1, 1, 1, 1, 1, 1, 1, 1, 1, 1, 1, 1, 1, 1,\n",
       "          1, 1, 1, 1, 1, 1, 1, 1, 1, 1, 1, 1, 1, 1, 1, 1, 1, 1, 1, 1, 1]),\n",
       "  tensor([1, 1, 1, 1, 1, 1, 1, 1, 1, 1, 1, 1, 1, 1, 1, 1, 1, 1, 1, 1, 1, 1, 1, 1,\n",
       "          1, 1, 1, 1, 1, 1, 1, 1, 1, 1])],\n",
       " 'input_ids': [tensor([ 101,  677, 6440, 3198, 2110, 4495, 2797, 3322, 1510,  702,  679,  977,\n",
       "          8024, 5439, 2360,  671, 2584,  722,  678, 2828, 2797, 3322, 3035,  749,\n",
       "          8024, 2157, 7270, 2897, 1355, 4873, 6375, 5439, 2360, 6608, 8024, 1920,\n",
       "          2157, 2582,  720, 4692, 2521, 6821, 4905,  752, 8043,  102]),\n",
       "  tensor([ 101, 1555, 6617, 4384, 4413, 5500,  819, 3300, 7361, 1062, 1385, 1068,\n",
       "           754, 2454, 3309, 1726, 1908,  677, 3862, 6395, 1171,  769, 3211, 2792,\n",
       "          2190, 1062, 1385, 8109, 2399, 2399, 2428, 2845, 1440, 4638,  752, 1400,\n",
       "          2144, 3417, 7309, 6418, 1141, 4638, 1062, 1440,  102]),\n",
       "  tensor([ 101, 6858, 6814,  704,  792, 1062, 1385,  743,  749,  753, 2797, 2791,\n",
       "          8024, 7674,  802, 6963,  802,  749, 8024, 4385, 1762, 1297, 2157,  679,\n",
       "          2682, 1297,  749,  511, 2582,  720, 1905, 4415, 8043,  102])],\n",
       " 'labels': tensor([0, 1, 2]),\n",
       " 'token_type_ids': [tensor([0, 0, 0, 0, 0, 0, 0, 0, 0, 0, 0, 0, 0, 0, 0, 0, 0, 0, 0, 0, 0, 0, 0, 0,\n",
       "          0, 0, 0, 0, 0, 0, 0, 0, 0, 0, 0, 0, 0, 0, 0, 0, 0, 0, 0, 0, 0, 0]),\n",
       "  tensor([0, 0, 0, 0, 0, 0, 0, 0, 0, 0, 0, 0, 0, 0, 0, 0, 0, 0, 0, 0, 0, 0, 0, 0,\n",
       "          0, 0, 0, 0, 0, 0, 0, 0, 0, 0, 0, 0, 0, 0, 0, 0, 0, 0, 0, 0, 0]),\n",
       "  tensor([0, 0, 0, 0, 0, 0, 0, 0, 0, 0, 0, 0, 0, 0, 0, 0, 0, 0, 0, 0, 0, 0, 0, 0,\n",
       "          0, 0, 0, 0, 0, 0, 0, 0, 0, 0])]}"
      ]
     },
     "execution_count": 10,
     "metadata": {},
     "output_type": "execute_result"
    }
   ],
   "source": [
    "dataset['train'][:3]"
   ]
  },
  {
   "cell_type": "code",
   "execution_count": 11,
   "id": "awful-watson",
   "metadata": {
    "ExecuteTime": {
     "end_time": "2021-05-21T06:53:34.770318Z",
     "start_time": "2021-05-21T06:53:34.766356Z"
    }
   },
   "outputs": [],
   "source": [
    "# 配合DataLoader使用\n",
    "collator = DataCollatorWithPadding(tokenizer=tokenizer)\n",
    "train_loader = DataLoader(dataset['train'], batch_size=3, collate_fn=collator)"
   ]
  },
  {
   "cell_type": "code",
   "execution_count": 12,
   "id": "adaptive-peeing",
   "metadata": {
    "ExecuteTime": {
     "end_time": "2021-05-21T06:53:34.791873Z",
     "start_time": "2021-05-21T06:53:34.775138Z"
    }
   },
   "outputs": [
    {
     "data": {
      "text/plain": [
       "{'attention_mask': tensor([[1, 1, 1, 1, 1, 1, 1, 1, 1, 1, 1, 1, 1, 1, 1, 1, 1, 1, 1, 1, 1, 1, 1, 1,\n",
       "         1, 1, 1, 1, 1, 1, 1, 1, 1, 1, 1, 1, 1, 1, 1, 1, 1, 1, 1, 1, 1, 1],\n",
       "        [1, 1, 1, 1, 1, 1, 1, 1, 1, 1, 1, 1, 1, 1, 1, 1, 1, 1, 1, 1, 1, 1, 1, 1,\n",
       "         1, 1, 1, 1, 1, 1, 1, 1, 1, 1, 1, 1, 1, 1, 1, 1, 1, 1, 1, 1, 1, 0],\n",
       "        [1, 1, 1, 1, 1, 1, 1, 1, 1, 1, 1, 1, 1, 1, 1, 1, 1, 1, 1, 1, 1, 1, 1, 1,\n",
       "         1, 1, 1, 1, 1, 1, 1, 1, 1, 1, 0, 0, 0, 0, 0, 0, 0, 0, 0, 0, 0, 0]]), 'input_ids': tensor([[ 101,  677, 6440, 3198, 2110, 4495, 2797, 3322, 1510,  702,  679,  977,\n",
       "         8024, 5439, 2360,  671, 2584,  722,  678, 2828, 2797, 3322, 3035,  749,\n",
       "         8024, 2157, 7270, 2897, 1355, 4873, 6375, 5439, 2360, 6608, 8024, 1920,\n",
       "         2157, 2582,  720, 4692, 2521, 6821, 4905,  752, 8043,  102],\n",
       "        [ 101, 1555, 6617, 4384, 4413, 5500,  819, 3300, 7361, 1062, 1385, 1068,\n",
       "          754, 2454, 3309, 1726, 1908,  677, 3862, 6395, 1171,  769, 3211, 2792,\n",
       "         2190, 1062, 1385, 8109, 2399, 2399, 2428, 2845, 1440, 4638,  752, 1400,\n",
       "         2144, 3417, 7309, 6418, 1141, 4638, 1062, 1440,  102,    0],\n",
       "        [ 101, 6858, 6814,  704,  792, 1062, 1385,  743,  749,  753, 2797, 2791,\n",
       "         8024, 7674,  802, 6963,  802,  749, 8024, 4385, 1762, 1297, 2157,  679,\n",
       "         2682, 1297,  749,  511, 2582,  720, 1905, 4415, 8043,  102,    0,    0,\n",
       "            0,    0,    0,    0,    0,    0,    0,    0,    0,    0]]), 'labels': tensor([0, 1, 2]), 'token_type_ids': tensor([[0, 0, 0, 0, 0, 0, 0, 0, 0, 0, 0, 0, 0, 0, 0, 0, 0, 0, 0, 0, 0, 0, 0, 0,\n",
       "         0, 0, 0, 0, 0, 0, 0, 0, 0, 0, 0, 0, 0, 0, 0, 0, 0, 0, 0, 0, 0, 0],\n",
       "        [0, 0, 0, 0, 0, 0, 0, 0, 0, 0, 0, 0, 0, 0, 0, 0, 0, 0, 0, 0, 0, 0, 0, 0,\n",
       "         0, 0, 0, 0, 0, 0, 0, 0, 0, 0, 0, 0, 0, 0, 0, 0, 0, 0, 0, 0, 0, 0],\n",
       "        [0, 0, 0, 0, 0, 0, 0, 0, 0, 0, 0, 0, 0, 0, 0, 0, 0, 0, 0, 0, 0, 0, 0, 0,\n",
       "         0, 0, 0, 0, 0, 0, 0, 0, 0, 0, 0, 0, 0, 0, 0, 0, 0, 0, 0, 0, 0, 0]])}"
      ]
     },
     "execution_count": 12,
     "metadata": {},
     "output_type": "execute_result"
    }
   ],
   "source": [
    "next(iter(train_loader))"
   ]
  },
  {
   "cell_type": "code",
   "execution_count": null,
   "id": "impressed-resident",
   "metadata": {},
   "outputs": [],
   "source": []
  }
 ],
 "metadata": {
  "kernelspec": {
   "display_name": "dl_env",
   "language": "python",
   "name": "dl_env"
  },
  "language_info": {
   "codemirror_mode": {
    "name": "ipython",
    "version": 3
   },
   "file_extension": ".py",
   "mimetype": "text/x-python",
   "name": "python",
   "nbconvert_exporter": "python",
   "pygments_lexer": "ipython3",
   "version": "3.7.9"
  },
  "varInspector": {
   "cols": {
    "lenName": 16,
    "lenType": 16,
    "lenVar": 40
   },
   "kernels_config": {
    "python": {
     "delete_cmd_postfix": "",
     "delete_cmd_prefix": "del ",
     "library": "var_list.py",
     "varRefreshCmd": "print(var_dic_list())"
    },
    "r": {
     "delete_cmd_postfix": ") ",
     "delete_cmd_prefix": "rm(",
     "library": "var_list.r",
     "varRefreshCmd": "cat(var_dic_list()) "
    }
   },
   "types_to_exclude": [
    "module",
    "function",
    "builtin_function_or_method",
    "instance",
    "_Feature"
   ],
   "window_display": false
  }
 },
 "nbformat": 4,
 "nbformat_minor": 5
}
