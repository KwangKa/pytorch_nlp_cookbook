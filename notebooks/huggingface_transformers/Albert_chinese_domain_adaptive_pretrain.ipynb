{
 "cells": [
  {
   "cell_type": "code",
   "execution_count": null,
   "id": "statistical-religion",
   "metadata": {
    "ExecuteTime": {
     "end_time": "2021-05-21T01:42:55.765902Z",
     "start_time": "2021-05-21T01:42:55.760809Z"
    }
   },
   "outputs": [],
   "source": [
    "# Gururangan S, Marasović A, Swayamdipta S, et al. \n",
    "# Don't Stop Pretraining: Adapt Language Models to Domains and Tasks[J]. arXiv preprint arXiv:2004.10964, 2020."
   ]
  },
  {
   "cell_type": "code",
   "execution_count": null,
   "id": "behind-restoration",
   "metadata": {
    "ExecuteTime": {
     "end_time": "2021-05-21T01:43:28.576459Z",
     "start_time": "2021-05-21T01:43:28.570921Z"
    }
   },
   "outputs": [],
   "source": [
    "import os\n",
    "os.environ['TRANSFORMERS_CACHE'] = '/root/data/transformers/model_zoo'\n",
    "\n",
    "from tqdm import tqdm\n",
    "from pathlib import Path\n",
    "from transformers import (\n",
    "    AlbertForMaskedLM,\n",
    "    BertTokenizer,\n",
    "    DataCollatorForLanguageModeling,\n",
    "    LineByLineTextDataset,\n",
    "    Trainer,\n",
    "    TrainingArguments\n",
    ")"
   ]
  },
  {
   "cell_type": "code",
   "execution_count": null,
   "id": "convenient-cleaning",
   "metadata": {
    "ExecuteTime": {
     "end_time": "2021-05-21T01:43:40.176078Z",
     "start_time": "2021-05-21T01:43:40.171118Z"
    }
   },
   "outputs": [],
   "source": [
    "data_path = Path('../../data/tnews/')"
   ]
  },
  {
   "cell_type": "code",
   "execution_count": null,
   "id": "younger-separation",
   "metadata": {
    "ExecuteTime": {
     "end_time": "2021-05-21T01:44:26.519171Z",
     "start_time": "2021-05-21T01:43:57.800824Z"
    }
   },
   "outputs": [],
   "source": [
    "pretrained = 'voidful/albert_chinese_tiny'\n",
    "tokenizer = BertTokenizer.from_pretrained(pretrained, mirror='tuna')\n",
    "model = AlbertForMaskedLM.from_pretrained(pretrained, mirror='tuna')\n",
    "pretrain_dataset = LineByLineTextDataset(\n",
    "    tokenizer=tokenizer,\n",
    "    file_path=data_path / 'pretrain_data.txt',\n",
    "    block_size=512\n",
    ")\n",
    "data_collator = DataCollatorForLanguageModeling(\n",
    "    tokenizer=tokenizer,\n",
    "    mlm=True,\n",
    "    mlm_probability=0.15\n",
    ")"
   ]
  },
  {
   "cell_type": "code",
   "execution_count": null,
   "id": "junior-recipe",
   "metadata": {},
   "outputs": [],
   "source": [
    "training_args = TrainingArguments(\n",
    "    output_dir='./results',\n",
    "    num_train_epochs=10,\n",
    "    per_device_train_batch_size=64,\n",
    "    per_device_eval_batch_size=64,\n",
    "    warmup_steps=500\n",
    ")\n",
    "\n",
    "trainer = Trainer(\n",
    "    model=model,\n",
    "    args=training_args,\n",
    "    data_collator=data_collator,\n",
    "    train_dataset=pretrain_dataset\n",
    ")\n",
    "\n",
    "trainer.train()"
   ]
  },
  {
   "cell_type": "code",
   "execution_count": null,
   "id": "blond-turner",
   "metadata": {},
   "outputs": [],
   "source": [
    "trainer.save_model('./dapt_model')\n",
    "tokenizer.save_pretrained('./dapt_model/')"
   ]
  },
  {
   "cell_type": "code",
   "execution_count": null,
   "id": "distinguished-forum",
   "metadata": {},
   "outputs": [],
   "source": []
  }
 ],
 "metadata": {
  "kernelspec": {
   "display_name": "dl_env",
   "language": "python",
   "name": "dl_env"
  },
  "language_info": {
   "codemirror_mode": {
    "name": "ipython",
    "version": 3
   },
   "file_extension": ".py",
   "mimetype": "text/x-python",
   "name": "python",
   "nbconvert_exporter": "python",
   "pygments_lexer": "ipython3",
   "version": "3.7.9"
  },
  "varInspector": {
   "cols": {
    "lenName": 16,
    "lenType": 16,
    "lenVar": 40
   },
   "kernels_config": {
    "python": {
     "delete_cmd_postfix": "",
     "delete_cmd_prefix": "del ",
     "library": "var_list.py",
     "varRefreshCmd": "print(var_dic_list())"
    },
    "r": {
     "delete_cmd_postfix": ") ",
     "delete_cmd_prefix": "rm(",
     "library": "var_list.r",
     "varRefreshCmd": "cat(var_dic_list()) "
    }
   },
   "types_to_exclude": [
    "module",
    "function",
    "builtin_function_or_method",
    "instance",
    "_Feature"
   ],
   "window_display": false
  }
 },
 "nbformat": 4,
 "nbformat_minor": 5
}
