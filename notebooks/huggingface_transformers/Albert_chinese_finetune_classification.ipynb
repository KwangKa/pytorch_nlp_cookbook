{
 "cells": [
  {
   "cell_type": "code",
   "execution_count": null,
   "id": "boring-kinase",
   "metadata": {
    "ExecuteTime": {
     "end_time": "2021-05-21T01:45:51.882599Z",
     "start_time": "2021-05-21T01:45:51.878100Z"
    }
   },
   "outputs": [],
   "source": [
    "import os\n",
    "os.environ['TRANSFORMERS_CACHE'] = '/root/data/transformers/model_zoo'"
   ]
  },
  {
   "cell_type": "code",
   "execution_count": null,
   "id": "systematic-piano",
   "metadata": {
    "ExecuteTime": {
     "end_time": "2021-05-21T01:45:54.265356Z",
     "start_time": "2021-05-21T01:45:52.436437Z"
    }
   },
   "outputs": [],
   "source": [
    "import json\n",
    "import torch\n",
    "from tqdm import tqdm\n",
    "from pathlib import Path\n",
    "from torch.utils.data import DataLoader\n",
    "from transformers import BertTokenizer, AlbertForSequenceClassification"
   ]
  },
  {
   "cell_type": "code",
   "execution_count": null,
   "id": "closed-exposure",
   "metadata": {
    "ExecuteTime": {
     "end_time": "2021-05-21T01:46:06.021482Z",
     "start_time": "2021-05-21T01:46:06.016673Z"
    }
   },
   "outputs": [],
   "source": [
    "data_path = Path('../../data/tnews/')"
   ]
  },
  {
   "cell_type": "markdown",
   "id": "structured-approval",
   "metadata": {},
   "source": [
    "### 1. tokenizer"
   ]
  },
  {
   "cell_type": "code",
   "execution_count": null,
   "id": "accepting-empty",
   "metadata": {
    "ExecuteTime": {
     "end_time": "2021-05-21T01:46:12.457562Z",
     "start_time": "2021-05-21T01:46:08.246771Z"
    }
   },
   "outputs": [],
   "source": [
    "pretrained = 'voidful/albert_chinese_tiny'\n",
    "tokenizer = BertTokenizer.from_pretrained(pretrained, mirror='tuna')"
   ]
  },
  {
   "cell_type": "markdown",
   "id": "textile-panel",
   "metadata": {},
   "source": [
    "### 2. preprocess data"
   ]
  },
  {
   "cell_type": "code",
   "execution_count": null,
   "id": "honey-coordinate",
   "metadata": {
    "ExecuteTime": {
     "end_time": "2021-05-21T01:46:20.156010Z",
     "start_time": "2021-05-21T01:46:20.146697Z"
    }
   },
   "outputs": [],
   "source": [
    "label_name2id = {}\n",
    "label_id2name = {}\n",
    "with open(data_path / 'labels.json', 'r') as h:\n",
    "    for idx, line in enumerate(h):\n",
    "        items = json.loads(line)\n",
    "        label_name2id[items['label_desc']] = idx\n",
    "        label_id2name[idx] = items['label_desc']\n",
    "print(label_name2id)\n",
    "print(label_id2name)"
   ]
  },
  {
   "cell_type": "code",
   "execution_count": null,
   "id": "absolute-termination",
   "metadata": {
    "ExecuteTime": {
     "end_time": "2021-05-21T01:46:23.633708Z",
     "start_time": "2021-05-21T01:46:23.627543Z"
    }
   },
   "outputs": [],
   "source": [
    "def load_data(fname):\n",
    "    texts = []\n",
    "    labels = []\n",
    "    with open(fname, 'r', encoding='utf8') as h:\n",
    "        for line in h:\n",
    "            items = json.loads(line)\n",
    "            texts.append(items['sentence'])\n",
    "            labels.append(label_name2id[items['label_desc']])\n",
    "    return texts, labels"
   ]
  },
  {
   "cell_type": "code",
   "execution_count": null,
   "id": "genetic-level",
   "metadata": {
    "ExecuteTime": {
     "end_time": "2021-05-21T01:46:42.120539Z",
     "start_time": "2021-05-21T01:46:41.786475Z"
    },
    "scrolled": true
   },
   "outputs": [],
   "source": [
    "train_txt, train_label = load_data(data_path / 'train.json')\n",
    "test_txt, test_label = load_data(data_path / 'dev.json')\n",
    "print('train num:{0}\\ntest num:{1}'.format(len(train_txt), len(test_txt)))"
   ]
  },
  {
   "cell_type": "markdown",
   "id": "electoral-still",
   "metadata": {},
   "source": [
    "### 3. load model"
   ]
  },
  {
   "cell_type": "code",
   "execution_count": null,
   "id": "nonprofit-norfolk",
   "metadata": {
    "ExecuteTime": {
     "end_time": "2021-05-21T01:46:56.107516Z",
     "start_time": "2021-05-21T01:46:44.996951Z"
    }
   },
   "outputs": [],
   "source": [
    "num_labels = len(label_name2id)\n",
    "model = AlbertForSequenceClassification.from_pretrained(pretrained, mirror='tuna', num_labels=num_labels)\n",
    "model"
   ]
  },
  {
   "cell_type": "markdown",
   "id": "engaged-phoenix",
   "metadata": {},
   "source": [
    "### 4. build dataset"
   ]
  },
  {
   "cell_type": "code",
   "execution_count": null,
   "id": "short-killer",
   "metadata": {
    "ExecuteTime": {
     "end_time": "2021-05-21T01:46:59.503818Z",
     "start_time": "2021-05-21T01:46:59.496418Z"
    }
   },
   "outputs": [],
   "source": [
    "class TNewsDataset(torch.utils.data.Dataset):\n",
    "    def __init__(self, encodings, labels):\n",
    "        self.encodings = encodings\n",
    "        self.labels = labels\n",
    "\n",
    "    def __getitem__(self, idx):\n",
    "        item = {key: torch.tensor(val[idx]) for key, val in self.encodings.items()}\n",
    "        item['labels'] = torch.tensor(self.labels[idx])\n",
    "        return item\n",
    "\n",
    "    def __len__(self):\n",
    "        return len(self.labels)"
   ]
  },
  {
   "cell_type": "code",
   "execution_count": null,
   "id": "digital-nirvana",
   "metadata": {
    "ExecuteTime": {
     "end_time": "2021-05-21T01:47:17.049344Z",
     "start_time": "2021-05-21T01:47:00.788486Z"
    }
   },
   "outputs": [],
   "source": [
    "train_enc = tokenizer(train_txt, padding=True, truncation=True, max_length=512)\n",
    "test_enc = tokenizer(test_txt, padding=True, truncation=True, max_length=512)\n",
    "train_dataset = TNewsDataset(train_enc, train_label)\n",
    "test_dataset = TNewsDataset(test_enc, test_label)\n",
    "train_loader = DataLoader(train_dataset, batch_size=64, shuffle=True)\n",
    "test_loader = DataLoader(test_dataset, batch_size=64, shuffle=False)"
   ]
  },
  {
   "cell_type": "markdown",
   "id": "exact-tyler",
   "metadata": {},
   "source": [
    "### 5. random predict"
   ]
  },
  {
   "cell_type": "code",
   "execution_count": null,
   "id": "lasting-canberra",
   "metadata": {},
   "outputs": [],
   "source": [
    "# 模型顶层全连接层权重为随机初始化，所以是分类结果是随机的\n",
    "device = torch.device('cuda') if torch.cuda.is_available() else torch.device('cpu')\n",
    "model.eval()\n",
    "model.to(device)\n",
    "test_cnt = 0\n",
    "test_correct_cnt = 0\n",
    "for batch in tqdm(test_loader):\n",
    "    input_ids = batch['input_ids'].to(device)\n",
    "    attention_mask = batch['attention_mask'].to(device)\n",
    "    labels = batch['labels'].to(device)\n",
    "    with torch.no_grad():\n",
    "        output = model(input_ids=input_ids, attention_mask=attention_mask, labels=labels)\n",
    "        test_correct_cnt += (output.logits.argmax(1) == labels).sum().cpu().item()\n",
    "        test_cnt += len(labels)\n",
    "print(\"test acc:{0:.4f}\".format(test_correct_cnt / test_cnt))"
   ]
  },
  {
   "cell_type": "markdown",
   "id": "exact-rebel",
   "metadata": {},
   "source": [
    "### 6. finetune"
   ]
  },
  {
   "cell_type": "code",
   "execution_count": null,
   "id": "cross-project",
   "metadata": {},
   "outputs": [],
   "source": [
    "optimizer = torch.optim.Adam(model.parameters(), lr=0.0005)\n",
    "eval_steps = 500\n",
    "num_epochs = 2\n",
    "step_idx = 0\n",
    "train_cnt = 0\n",
    "train_correct_cnt = 0\n",
    "train_loss_sum = 0.0\n",
    "for epoch in range(num_epochs):\n",
    "    model.train()\n",
    "    for batch in tqdm(train_loader):\n",
    "        optimizer.zero_grad()\n",
    "        input_ids = batch['input_ids'].to(device)\n",
    "        attention_mask = batch['attention_mask'].to(device)\n",
    "        labels = batch['labels'].to(device)\n",
    "        output = model(input_ids=input_ids, attention_mask=attention_mask, labels=labels)\n",
    "        loss = output.loss\n",
    "        loss.backward()\n",
    "        optimizer.step()\n",
    "        train_loss_sum += loss.cpu().item()\n",
    "        train_correct_cnt += (output.logits.argmax(1) == labels).sum().cpu().item()\n",
    "        train_cnt += len(labels)\n",
    "        \n",
    "        step_idx += 1\n",
    "        if step_idx % eval_steps == 0:\n",
    "            model.eval()\n",
    "            test_cnt = 0\n",
    "            test_correct_cnt = 0\n",
    "            test_loss_sum = 0.0\n",
    "            for batch in test_loader:\n",
    "                input_ids = batch['input_ids'].to(device)\n",
    "                attention_mask = batch['attention_mask'].to(device)\n",
    "                labels = batch['labels'].to(device)\n",
    "                with torch.no_grad():\n",
    "                    output = model(input_ids=input_ids, attention_mask=attention_mask, labels=labels)\n",
    "                    loss = output.loss\n",
    "                    test_loss_sum += loss.cpu().item()\n",
    "                    test_correct_cnt += (output.logits.argmax(1) == labels).sum().cpu().item()\n",
    "                    test_cnt += len(labels)\n",
    "            print(\"epoch {0}, step {1}, train loss:{2:.6f}, train acc:{3:.4f}, test loss:{4:.6f}, test acc:{5:.4f}\".format(\n",
    "                epoch,\n",
    "                step_idx,\n",
    "                train_loss_sum / train_cnt,\n",
    "                train_correct_cnt / train_cnt,\n",
    "                test_loss_sum / test_cnt,\n",
    "                test_correct_cnt / test_cnt))\n",
    "            train_cnt = 0\n",
    "            train_correct_cnt = 0\n",
    "            train_loss_sum = 0.0\n",
    "            model.train()"
   ]
  },
  {
   "cell_type": "code",
   "execution_count": null,
   "id": "material-cornwall",
   "metadata": {},
   "outputs": [],
   "source": []
  }
 ],
 "metadata": {
  "kernelspec": {
   "display_name": "dl_env",
   "language": "python",
   "name": "dl_env"
  },
  "language_info": {
   "codemirror_mode": {
    "name": "ipython",
    "version": 3
   },
   "file_extension": ".py",
   "mimetype": "text/x-python",
   "name": "python",
   "nbconvert_exporter": "python",
   "pygments_lexer": "ipython3",
   "version": "3.7.9"
  },
  "varInspector": {
   "cols": {
    "lenName": 16,
    "lenType": 16,
    "lenVar": 40
   },
   "kernels_config": {
    "python": {
     "delete_cmd_postfix": "",
     "delete_cmd_prefix": "del ",
     "library": "var_list.py",
     "varRefreshCmd": "print(var_dic_list())"
    },
    "r": {
     "delete_cmd_postfix": ") ",
     "delete_cmd_prefix": "rm(",
     "library": "var_list.r",
     "varRefreshCmd": "cat(var_dic_list()) "
    }
   },
   "types_to_exclude": [
    "module",
    "function",
    "builtin_function_or_method",
    "instance",
    "_Feature"
   ],
   "window_display": false
  }
 },
 "nbformat": 4,
 "nbformat_minor": 5
}
