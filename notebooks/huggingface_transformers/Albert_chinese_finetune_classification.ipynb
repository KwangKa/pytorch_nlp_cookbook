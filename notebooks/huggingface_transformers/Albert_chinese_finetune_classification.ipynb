{
 "cells": [
  {
   "cell_type": "code",
   "execution_count": 1,
   "id": "boring-kinase",
   "metadata": {
    "ExecuteTime": {
     "end_time": "2021-05-21T01:45:51.882599Z",
     "start_time": "2021-05-21T01:45:51.878100Z"
    }
   },
   "outputs": [],
   "source": [
    "import os\n",
    "os.environ['TRANSFORMERS_CACHE'] = '/root/data/transformers/model_zoo'"
   ]
  },
  {
   "cell_type": "code",
   "execution_count": 2,
   "id": "systematic-piano",
   "metadata": {
    "ExecuteTime": {
     "end_time": "2021-05-21T01:45:54.265356Z",
     "start_time": "2021-05-21T01:45:52.436437Z"
    }
   },
   "outputs": [],
   "source": [
    "import json\n",
    "import torch\n",
    "from tqdm import tqdm\n",
    "from pathlib import Path\n",
    "from torch.utils.data import DataLoader\n",
    "from transformers import BertTokenizer, AlbertForSequenceClassification"
   ]
  },
  {
   "cell_type": "code",
   "execution_count": 3,
   "id": "closed-exposure",
   "metadata": {
    "ExecuteTime": {
     "end_time": "2021-05-21T01:46:06.021482Z",
     "start_time": "2021-05-21T01:46:06.016673Z"
    }
   },
   "outputs": [],
   "source": [
    "data_path = Path('../../data/tnews/')"
   ]
  },
  {
   "cell_type": "markdown",
   "id": "structured-approval",
   "metadata": {},
   "source": [
    "### 1. tokenizer"
   ]
  },
  {
   "cell_type": "code",
   "execution_count": 4,
   "id": "accepting-empty",
   "metadata": {
    "ExecuteTime": {
     "end_time": "2021-05-21T01:46:12.457562Z",
     "start_time": "2021-05-21T01:46:08.246771Z"
    }
   },
   "outputs": [],
   "source": [
    "pretrained = 'voidful/albert_chinese_tiny'\n",
    "tokenizer = BertTokenizer.from_pretrained(pretrained, mirror='tuna')"
   ]
  },
  {
   "cell_type": "markdown",
   "id": "textile-panel",
   "metadata": {},
   "source": [
    "### 2. preprocess data"
   ]
  },
  {
   "cell_type": "code",
   "execution_count": 5,
   "id": "honey-coordinate",
   "metadata": {
    "ExecuteTime": {
     "end_time": "2021-05-21T01:46:20.156010Z",
     "start_time": "2021-05-21T01:46:20.146697Z"
    }
   },
   "outputs": [
    {
     "name": "stdout",
     "output_type": "stream",
     "text": [
      "{'news_story': 0, 'news_culture': 1, 'news_entertainment': 2, 'news_sports': 3, 'news_finance': 4, 'news_house': 5, 'news_car': 6, 'news_edu': 7, 'news_tech': 8, 'news_military': 9, 'news_travel': 10, 'news_world': 11, 'news_stock': 12, 'news_agriculture': 13, 'news_game': 14}\n",
      "{0: 'news_story', 1: 'news_culture', 2: 'news_entertainment', 3: 'news_sports', 4: 'news_finance', 5: 'news_house', 6: 'news_car', 7: 'news_edu', 8: 'news_tech', 9: 'news_military', 10: 'news_travel', 11: 'news_world', 12: 'news_stock', 13: 'news_agriculture', 14: 'news_game'}\n"
     ]
    }
   ],
   "source": [
    "label_name2id = {}\n",
    "label_id2name = {}\n",
    "with open(data_path / 'labels.json', 'r') as h:\n",
    "    for idx, line in enumerate(h):\n",
    "        items = json.loads(line)\n",
    "        label_name2id[items['label_desc']] = idx\n",
    "        label_id2name[idx] = items['label_desc']\n",
    "print(label_name2id)\n",
    "print(label_id2name)"
   ]
  },
  {
   "cell_type": "code",
   "execution_count": 6,
   "id": "absolute-termination",
   "metadata": {
    "ExecuteTime": {
     "end_time": "2021-05-21T01:46:23.633708Z",
     "start_time": "2021-05-21T01:46:23.627543Z"
    }
   },
   "outputs": [],
   "source": [
    "def load_data(fname):\n",
    "    texts = []\n",
    "    labels = []\n",
    "    with open(fname, 'r', encoding='utf8') as h:\n",
    "        for line in h:\n",
    "            items = json.loads(line)\n",
    "            texts.append(items['sentence'])\n",
    "            labels.append(label_name2id[items['label_desc']])\n",
    "    return texts, labels"
   ]
  },
  {
   "cell_type": "code",
   "execution_count": 7,
   "id": "genetic-level",
   "metadata": {
    "ExecuteTime": {
     "end_time": "2021-05-21T01:46:42.120539Z",
     "start_time": "2021-05-21T01:46:41.786475Z"
    },
    "scrolled": true
   },
   "outputs": [
    {
     "name": "stdout",
     "output_type": "stream",
     "text": [
      "train num:53360\n",
      "test num:10000\n"
     ]
    }
   ],
   "source": [
    "train_txt, train_label = load_data(data_path / 'train.json')\n",
    "test_txt, test_label = load_data(data_path / 'dev.json')\n",
    "print('train num:{0}\\ntest num:{1}'.format(len(train_txt), len(test_txt)))"
   ]
  },
  {
   "cell_type": "markdown",
   "id": "electoral-still",
   "metadata": {},
   "source": [
    "### 3. load model"
   ]
  },
  {
   "cell_type": "code",
   "execution_count": 8,
   "id": "nonprofit-norfolk",
   "metadata": {
    "ExecuteTime": {
     "end_time": "2021-05-21T01:46:56.107516Z",
     "start_time": "2021-05-21T01:46:44.996951Z"
    }
   },
   "outputs": [
    {
     "name": "stderr",
     "output_type": "stream",
     "text": [
      "Some weights of the model checkpoint at voidful/albert_chinese_tiny were not used when initializing AlbertForSequenceClassification: ['predictions.bias', 'predictions.LayerNorm.weight', 'predictions.LayerNorm.bias', 'predictions.dense.weight', 'predictions.dense.bias', 'predictions.decoder.weight', 'predictions.decoder.bias']\n",
      "- This IS expected if you are initializing AlbertForSequenceClassification from the checkpoint of a model trained on another task or with another architecture (e.g. initializing a BertForSequenceClassification model from a BertForPreTraining model).\n",
      "- This IS NOT expected if you are initializing AlbertForSequenceClassification from the checkpoint of a model that you expect to be exactly identical (initializing a BertForSequenceClassification model from a BertForSequenceClassification model).\n",
      "Some weights of AlbertForSequenceClassification were not initialized from the model checkpoint at voidful/albert_chinese_tiny and are newly initialized: ['classifier.weight', 'classifier.bias']\n",
      "You should probably TRAIN this model on a down-stream task to be able to use it for predictions and inference.\n"
     ]
    },
    {
     "data": {
      "text/plain": [
       "AlbertForSequenceClassification(\n",
       "  (albert): AlbertModel(\n",
       "    (embeddings): AlbertEmbeddings(\n",
       "      (word_embeddings): Embedding(21128, 128, padding_idx=0)\n",
       "      (position_embeddings): Embedding(512, 128)\n",
       "      (token_type_embeddings): Embedding(2, 128)\n",
       "      (LayerNorm): LayerNorm((128,), eps=1e-12, elementwise_affine=True)\n",
       "      (dropout): Dropout(p=0.0, inplace=False)\n",
       "    )\n",
       "    (encoder): AlbertTransformer(\n",
       "      (embedding_hidden_mapping_in): Linear(in_features=128, out_features=312, bias=True)\n",
       "      (albert_layer_groups): ModuleList(\n",
       "        (0): AlbertLayerGroup(\n",
       "          (albert_layers): ModuleList(\n",
       "            (0): AlbertLayer(\n",
       "              (full_layer_layer_norm): LayerNorm((312,), eps=1e-12, elementwise_affine=True)\n",
       "              (attention): AlbertAttention(\n",
       "                (query): Linear(in_features=312, out_features=312, bias=True)\n",
       "                (key): Linear(in_features=312, out_features=312, bias=True)\n",
       "                (value): Linear(in_features=312, out_features=312, bias=True)\n",
       "                (attention_dropout): Dropout(p=0.0, inplace=False)\n",
       "                (output_dropout): Dropout(p=0.0, inplace=False)\n",
       "                (dense): Linear(in_features=312, out_features=312, bias=True)\n",
       "                (LayerNorm): LayerNorm((312,), eps=1e-12, elementwise_affine=True)\n",
       "              )\n",
       "              (ffn): Linear(in_features=312, out_features=1248, bias=True)\n",
       "              (ffn_output): Linear(in_features=1248, out_features=312, bias=True)\n",
       "              (dropout): Dropout(p=0.0, inplace=False)\n",
       "            )\n",
       "          )\n",
       "        )\n",
       "      )\n",
       "    )\n",
       "    (pooler): Linear(in_features=312, out_features=312, bias=True)\n",
       "    (pooler_activation): Tanh()\n",
       "  )\n",
       "  (dropout): Dropout(p=0.1, inplace=False)\n",
       "  (classifier): Linear(in_features=312, out_features=15, bias=True)\n",
       ")"
      ]
     },
     "execution_count": 8,
     "metadata": {},
     "output_type": "execute_result"
    }
   ],
   "source": [
    "num_labels = len(label_name2id)\n",
    "model = AlbertForSequenceClassification.from_pretrained(pretrained, mirror='tuna', num_labels=num_labels)\n",
    "model"
   ]
  },
  {
   "cell_type": "markdown",
   "id": "engaged-phoenix",
   "metadata": {},
   "source": [
    "### 4. build dataset"
   ]
  },
  {
   "cell_type": "code",
   "execution_count": 9,
   "id": "short-killer",
   "metadata": {
    "ExecuteTime": {
     "end_time": "2021-05-21T01:46:59.503818Z",
     "start_time": "2021-05-21T01:46:59.496418Z"
    }
   },
   "outputs": [],
   "source": [
    "class TNewsDataset(torch.utils.data.Dataset):\n",
    "    def __init__(self, encodings, labels):\n",
    "        self.encodings = encodings\n",
    "        self.labels = labels\n",
    "\n",
    "    def __getitem__(self, idx):\n",
    "        item = {key: torch.tensor(val[idx]) for key, val in self.encodings.items()}\n",
    "        item['labels'] = torch.tensor(self.labels[idx])\n",
    "        return item\n",
    "\n",
    "    def __len__(self):\n",
    "        return len(self.labels)"
   ]
  },
  {
   "cell_type": "code",
   "execution_count": 10,
   "id": "digital-nirvana",
   "metadata": {
    "ExecuteTime": {
     "end_time": "2021-05-21T01:47:17.049344Z",
     "start_time": "2021-05-21T01:47:00.788486Z"
    }
   },
   "outputs": [],
   "source": [
    "train_enc = tokenizer(train_txt, padding=True, truncation=True, max_length=512)\n",
    "test_enc = tokenizer(test_txt, padding=True, truncation=True, max_length=512)\n",
    "train_dataset = TNewsDataset(train_enc, train_label)\n",
    "test_dataset = TNewsDataset(test_enc, test_label)\n",
    "train_loader = DataLoader(train_dataset, batch_size=64, shuffle=True)\n",
    "test_loader = DataLoader(test_dataset, batch_size=64, shuffle=False)"
   ]
  },
  {
   "cell_type": "markdown",
   "id": "exact-tyler",
   "metadata": {},
   "source": [
    "### 5. random predict"
   ]
  },
  {
   "cell_type": "code",
   "execution_count": 13,
   "id": "lasting-canberra",
   "metadata": {},
   "outputs": [
    {
     "name": "stderr",
     "output_type": "stream",
     "text": [
      "100%|██████████| 157/157 [00:09<00:00, 15.90it/s]"
     ]
    },
    {
     "name": "stdout",
     "output_type": "stream",
     "text": [
      "test acc:0.0771\n"
     ]
    },
    {
     "name": "stderr",
     "output_type": "stream",
     "text": [
      "\n"
     ]
    }
   ],
   "source": [
    "# 模型顶层全连接层权重为随机初始化，所以是分类结果是随机的\n",
    "device = torch.device('cuda') if torch.cuda.is_available() else torch.device('cpu')\n",
    "model.eval()\n",
    "model.to(device)\n",
    "test_cnt = 0\n",
    "test_correct_cnt = 0\n",
    "for batch in tqdm(test_loader):\n",
    "    input_ids = batch['input_ids'].to(device)\n",
    "    attention_mask = batch['attention_mask'].to(device)\n",
    "    labels = batch['labels'].to(device)\n",
    "    with torch.no_grad():\n",
    "        output = model(input_ids=input_ids, attention_mask=attention_mask, labels=labels)\n",
    "        test_correct_cnt += (output.logits.argmax(1) == labels).sum().cpu().item()\n",
    "        test_cnt += len(labels)\n",
    "print(\"test acc:{0:.4f}\".format(test_correct_cnt / test_cnt))"
   ]
  },
  {
   "cell_type": "markdown",
   "id": "exact-rebel",
   "metadata": {},
   "source": [
    "### 6. finetune"
   ]
  },
  {
   "cell_type": "code",
   "execution_count": 15,
   "id": "cross-project",
   "metadata": {},
   "outputs": [
    {
     "name": "stderr",
     "output_type": "stream",
     "text": [
      " 60%|██████    | 501/834 [01:49<12:31,  2.26s/it]"
     ]
    },
    {
     "name": "stdout",
     "output_type": "stream",
     "text": [
      "epoch 0, step 500, train loss:0.027055, train acc:0.4501, test loss:0.024696, test acc:0.4904\n"
     ]
    },
    {
     "name": "stderr",
     "output_type": "stream",
     "text": [
      "100%|██████████| 834/834 [02:54<00:00,  4.77it/s]\n",
      " 20%|██        | 167/834 [00:42<25:07,  2.26s/it]"
     ]
    },
    {
     "name": "stdout",
     "output_type": "stream",
     "text": [
      "epoch 1, step 1000, train loss:0.023373, train acc:0.5155, test loss:0.024123, test acc:0.5016\n"
     ]
    },
    {
     "name": "stderr",
     "output_type": "stream",
     "text": [
      " 80%|███████▉  | 667/834 [02:31<06:17,  2.26s/it]"
     ]
    },
    {
     "name": "stdout",
     "output_type": "stream",
     "text": [
      "epoch 1, step 1500, train loss:0.022137, train acc:0.5321, test loss:0.023908, test acc:0.5110\n"
     ]
    },
    {
     "name": "stderr",
     "output_type": "stream",
     "text": [
      "100%|██████████| 834/834 [03:04<00:00,  4.52it/s]\n"
     ]
    }
   ],
   "source": [
    "optimizer = torch.optim.Adam(model.parameters(), lr=0.0005)\n",
    "eval_steps = 500\n",
    "num_epochs = 2\n",
    "step_idx = 0\n",
    "train_cnt = 0\n",
    "train_correct_cnt = 0\n",
    "train_loss_sum = 0.0\n",
    "for epoch in range(num_epochs):\n",
    "    model.train()\n",
    "    for batch in tqdm(train_loader):\n",
    "        optimizer.zero_grad()\n",
    "        input_ids = batch['input_ids'].to(device)\n",
    "        attention_mask = batch['attention_mask'].to(device)\n",
    "        labels = batch['labels'].to(device)\n",
    "        output = model(input_ids=input_ids, attention_mask=attention_mask, labels=labels)\n",
    "        loss = output.loss\n",
    "        loss.backward()\n",
    "        optimizer.step()\n",
    "        train_loss_sum += loss.cpu().item()\n",
    "        train_correct_cnt += (output.logits.argmax(1) == labels).sum().cpu().item()\n",
    "        train_cnt += len(labels)\n",
    "        \n",
    "        step_idx += 1\n",
    "        if step_idx % eval_steps == 0:\n",
    "            model.eval()\n",
    "            test_cnt = 0\n",
    "            test_correct_cnt = 0\n",
    "            test_loss_sum = 0.0\n",
    "            for batch in test_loader:\n",
    "                input_ids = batch['input_ids'].to(device)\n",
    "                attention_mask = batch['attention_mask'].to(device)\n",
    "                labels = batch['labels'].to(device)\n",
    "                with torch.no_grad():\n",
    "                    output = model(input_ids=input_ids, attention_mask=attention_mask, labels=labels)\n",
    "                    loss = output.loss\n",
    "                    test_loss_sum += loss.cpu().item()\n",
    "                    test_correct_cnt += (output.logits.argmax(1) == labels).sum().cpu().item()\n",
    "                    test_cnt += len(labels)\n",
    "            print(\"epoch {0}, step {1}, train loss:{2:.6f}, train acc:{3:.4f}, test loss:{4:.6f}, test acc:{5:.4f}\".format(\n",
    "                epoch,\n",
    "                step_idx,\n",
    "                train_loss_sum / train_cnt,\n",
    "                train_correct_cnt / train_cnt,\n",
    "                test_loss_sum / test_cnt,\n",
    "                test_correct_cnt / test_cnt))\n",
    "            train_cnt = 0\n",
    "            train_correct_cnt = 0\n",
    "            train_loss_sum = 0.0\n",
    "            model.train()"
   ]
  },
  {
   "cell_type": "code",
   "execution_count": null,
   "id": "material-cornwall",
   "metadata": {},
   "outputs": [],
   "source": []
  }
 ],
 "metadata": {
  "kernelspec": {
   "display_name": "dl_env",
   "language": "python",
   "name": "dl_env"
  },
  "language_info": {
   "codemirror_mode": {
    "name": "ipython",
    "version": 3
   },
   "file_extension": ".py",
   "mimetype": "text/x-python",
   "name": "python",
   "nbconvert_exporter": "python",
   "pygments_lexer": "ipython3",
   "version": "3.7.9"
  },
  "varInspector": {
   "cols": {
    "lenName": 16,
    "lenType": 16,
    "lenVar": 40
   },
   "kernels_config": {
    "python": {
     "delete_cmd_postfix": "",
     "delete_cmd_prefix": "del ",
     "library": "var_list.py",
     "varRefreshCmd": "print(var_dic_list())"
    },
    "r": {
     "delete_cmd_postfix": ") ",
     "delete_cmd_prefix": "rm(",
     "library": "var_list.r",
     "varRefreshCmd": "cat(var_dic_list()) "
    }
   },
   "types_to_exclude": [
    "module",
    "function",
    "builtin_function_or_method",
    "instance",
    "_Feature"
   ],
   "window_display": false
  }
 },
 "nbformat": 4,
 "nbformat_minor": 5
}
