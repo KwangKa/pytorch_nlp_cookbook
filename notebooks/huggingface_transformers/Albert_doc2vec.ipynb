{
 "cells": [
  {
   "cell_type": "code",
   "execution_count": null,
   "id": "single-mixture",
   "metadata": {
    "ExecuteTime": {
     "end_time": "2021-05-21T01:48:23.522477Z",
     "start_time": "2021-05-21T01:48:23.517022Z"
    }
   },
   "outputs": [],
   "source": [
    "import os\n",
    "os.environ['TRANSFORMERS_CACHE'] = '/root/data/transformers/model_zoo'"
   ]
  },
  {
   "cell_type": "code",
   "execution_count": null,
   "id": "decreased-sequence",
   "metadata": {
    "ExecuteTime": {
     "end_time": "2021-05-21T01:48:24.684187Z",
     "start_time": "2021-05-21T01:48:24.005315Z"
    }
   },
   "outputs": [],
   "source": [
    "import numpy as np\n",
    "import faiss\n",
    "import torch\n",
    "from pathlib import Path\n",
    "from tqdm import tqdm\n",
    "from transformers import AlbertModel, BertTokenizer"
   ]
  },
  {
   "cell_type": "code",
   "execution_count": null,
   "id": "prescription-thickness",
   "metadata": {
    "ExecuteTime": {
     "end_time": "2021-04-25T10:56:27.667022Z",
     "start_time": "2021-04-25T10:56:27.650562Z"
    }
   },
   "outputs": [],
   "source": [
    "class AlbertDocEncoder(object):\n",
    "    def __init__(self, pretrained='voidful/albert_chinese_tiny'):\n",
    "        self.tokenizer = BertTokenizer.from_pretrained(pretrained, mirror='tuna')\n",
    "        self.model = AlbertModel.from_pretrained(pretrained, mirror='tuna')\n",
    "\n",
    "    def encode_doc(self, doc):\n",
    "        input_ids = self.tokenizer.encode(doc, add_special_tokens=False, return_tensors='pt')\n",
    "        with torch.no_grad():\n",
    "            outputs = self.model(input_ids, output_hidden_states=True)\n",
    "        hidden_state = outputs.hidden_states\n",
    "        vec = torch.mean(hidden_state[1] + hidden_state[-1], dim=1).squeeze()\n",
    "        return vec\n",
    "\n",
    "\n",
    "class FaissIndexer(object):\n",
    "    def __init__(self, embed_dim, param='HNSW64', measure=faiss.METRIC_INNER_PRODUCT):\n",
    "        self.index = faiss.index_factory(embed_dim, param, measure)  \n",
    "    \n",
    "    def build_index(self, vecs):\n",
    "        self.index.add(vecs)\n",
    "\n",
    "    def most_similar(self, query_vecs, top_k=10):\n",
    "        dist, ind = self.index.search(query_vecs, k=top_k)\n",
    "        return ind[0]\n",
    "\n",
    "\n",
    "class WhiteTransform(object):\n",
    "    def __init__(self, vecs, n_components=128):\n",
    "        self.embed_in = vecs.shape[1]\n",
    "        self.mu = self.moving_mean(vecs)\n",
    "        self.cov = self.moving_cov(vecs)\n",
    "        self.W = self.get_kernel(n_components)\n",
    "\n",
    "    def moving_mean(self, vecs):\n",
    "        mu = np.zeros((1, vecs.shape[1]), dtype=np.float32)\n",
    "        for i in range(vecs.shape[0]):\n",
    "            mu = i / (i + 1) * mu + 1 / (i + 1) * vecs[i, :]\n",
    "        return mu\n",
    "    \n",
    "    def moving_cov(self, vecs):\n",
    "        cov = np.zeros((vecs.shape[1], vecs.shape[1]), dtype=np.float32)\n",
    "        for i in range(vecs.shape[0]):\n",
    "            vec = vecs[i, :].reshape((1, -1))\n",
    "            vec = vec - self.mu\n",
    "            cur_cov = np.dot(vec.T, vec)\n",
    "            cov = i / (i + 1) * cov + 1 / (i + 1) * cur_cov\n",
    "        return cov\n",
    "    \n",
    "    def get_kernel(self, n_components):\n",
    "        u, s, vh = np.linalg.svd(self.cov)\n",
    "        W = np.dot(u, np.diag(1 / np.sqrt(s)))\n",
    "        return W[:, :n_components]\n",
    "\n",
    "    def transform_vecs(self, vecs):\n",
    "        vecs = (vecs - self.mu).dot(self.W)\n",
    "        return vecs / (vecs**2).sum(axis=1, keepdims=True) ** 0.5"
   ]
  },
  {
   "cell_type": "code",
   "execution_count": null,
   "id": "looking-strap",
   "metadata": {
    "ExecuteTime": {
     "end_time": "2021-04-25T10:48:19.073444Z",
     "start_time": "2021-04-25T10:48:11.264570Z"
    }
   },
   "outputs": [],
   "source": [
    "pretrained = 'voidful/albert_chinese_tiny'\n",
    "albert_enc = AlbertDocEncoder()"
   ]
  },
  {
   "cell_type": "code",
   "execution_count": null,
   "id": "attended-rugby",
   "metadata": {
    "ExecuteTime": {
     "end_time": "2021-05-21T01:49:00.964509Z",
     "start_time": "2021-05-21T01:49:00.946201Z"
    }
   },
   "outputs": [],
   "source": [
    "data_path = Path('../../data/tnews/')\n",
    "lines = open(data_path / 'pretrain_data_5k.txt', 'r', encoding='utf8').read().splitlines()\n",
    "print(len(lines))\n",
    "lines[:3]"
   ]
  },
  {
   "cell_type": "code",
   "execution_count": null,
   "id": "korean-picnic",
   "metadata": {
    "ExecuteTime": {
     "end_time": "2021-04-25T10:49:20.203012Z",
     "start_time": "2021-04-25T10:48:19.238799Z"
    }
   },
   "outputs": [],
   "source": [
    "n_sample = len(lines)\n",
    "embed_dim = 312\n",
    "embed_vecs = np.zeros((n_sample, embed_dim), dtype=np.float32)\n",
    "for i in tqdm(range(len(lines))):\n",
    "    vec = albert_enc.encode_doc(lines[i])\n",
    "    embed_vecs[i, :] = vec"
   ]
  },
  {
   "cell_type": "code",
   "execution_count": null,
   "id": "biological-nicaragua",
   "metadata": {
    "ExecuteTime": {
     "end_time": "2021-04-25T10:56:35.477336Z",
     "start_time": "2021-04-25T10:56:34.389046Z"
    }
   },
   "outputs": [],
   "source": [
    "whiter = WhiteTransform(embed_vecs, n_components=128)"
   ]
  },
  {
   "cell_type": "code",
   "execution_count": null,
   "id": "lasting-daughter",
   "metadata": {
    "ExecuteTime": {
     "end_time": "2021-04-25T10:49:21.543631Z",
     "start_time": "2021-04-25T10:49:21.529825Z"
    }
   },
   "outputs": [],
   "source": [
    "embed_vecs_white = whiter.transform_vecs(embed_vecs)"
   ]
  },
  {
   "cell_type": "code",
   "execution_count": null,
   "id": "surrounded-repository",
   "metadata": {
    "ExecuteTime": {
     "end_time": "2021-04-25T10:56:39.801012Z",
     "start_time": "2021-04-25T10:56:38.440705Z"
    }
   },
   "outputs": [],
   "source": [
    "index_origin = FaissIndexer(embed_dim=embed_vecs.shape[1], param='HNSW64', measure=faiss.METRIC_L2)\n",
    "index_origin.build_index(embed_vecs)"
   ]
  },
  {
   "cell_type": "code",
   "execution_count": null,
   "id": "million-nigeria",
   "metadata": {
    "ExecuteTime": {
     "end_time": "2021-04-25T10:56:53.279843Z",
     "start_time": "2021-04-25T10:56:52.480458Z"
    }
   },
   "outputs": [],
   "source": [
    "index_white = FaissIndexer(embed_dim=embed_vecs_white.shape[1], param='HNSW32', measure=faiss.METRIC_INNER_PRODUCT)\n",
    "index_white.build_index(embed_vecs_white)"
   ]
  },
  {
   "cell_type": "code",
   "execution_count": null,
   "id": "forced-mexico",
   "metadata": {
    "ExecuteTime": {
     "end_time": "2021-04-25T10:59:23.793217Z",
     "start_time": "2021-04-25T10:59:23.770653Z"
    },
    "scrolled": false
   },
   "outputs": [],
   "source": [
    "q_vec = albert_enc.encode_doc(u'比亚迪4月销量劲增20%').numpy()\n",
    "q_vec = q_vec.reshape((1, -1))\n",
    "for i in index_origin.most_similar(q_vec, 10):\n",
    "    print(lines[i])"
   ]
  },
  {
   "cell_type": "code",
   "execution_count": null,
   "id": "realistic-purpose",
   "metadata": {
    "ExecuteTime": {
     "end_time": "2021-04-25T10:59:34.453492Z",
     "start_time": "2021-04-25T10:59:34.428150Z"
    },
    "scrolled": true
   },
   "outputs": [],
   "source": [
    "q_vec = albert_enc.encode_doc(u'比亚迪4月销量劲增20%？').numpy()\n",
    "q_vec = q_vec.reshape((1, -1))\n",
    "q_vec_white = whiter.transform_vecs(q_vec)\n",
    "for i in index_white.most_similar(q_vec_white, 10):\n",
    "    print(lines[i])"
   ]
  }
 ],
 "metadata": {
  "kernelspec": {
   "display_name": "dl_env",
   "language": "python",
   "name": "dl_env"
  },
  "language_info": {
   "codemirror_mode": {
    "name": "ipython",
    "version": 3
   },
   "file_extension": ".py",
   "mimetype": "text/x-python",
   "name": "python",
   "nbconvert_exporter": "python",
   "pygments_lexer": "ipython3",
   "version": "3.7.9"
  },
  "varInspector": {
   "cols": {
    "lenName": 16,
    "lenType": 16,
    "lenVar": 40
   },
   "kernels_config": {
    "python": {
     "delete_cmd_postfix": "",
     "delete_cmd_prefix": "del ",
     "library": "var_list.py",
     "varRefreshCmd": "print(var_dic_list())"
    },
    "r": {
     "delete_cmd_postfix": ") ",
     "delete_cmd_prefix": "rm(",
     "library": "var_list.r",
     "varRefreshCmd": "cat(var_dic_list()) "
    }
   },
   "types_to_exclude": [
    "module",
    "function",
    "builtin_function_or_method",
    "instance",
    "_Feature"
   ],
   "window_display": false
  }
 },
 "nbformat": 4,
 "nbformat_minor": 5
}
